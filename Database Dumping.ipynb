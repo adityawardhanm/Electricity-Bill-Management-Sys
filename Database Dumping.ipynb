{
 "cells": [
  {
   "cell_type": "code",
   "execution_count": 18,
   "metadata": {},
   "outputs": [],
   "source": [
    "import mysql.connector\n",
    "import csv\n"
   ]
  },
  {
   "cell_type": "code",
   "execution_count": 19,
   "metadata": {},
   "outputs": [],
   "source": [
    "mydb = mysql.connector.connect(\n",
    "    host=\"localhost\",\n",
    "    user=\"root\",\n",
    "    password=#Your-password\n",
    ")\n",
    "mycursor = mydb.cursor()\n",
    "\n",
    "mycursor.execute(\"DROP DATABASE IF EXISTS ebms\")\n",
    "mycursor.execute(\"CREATE DATABASE ebms\")\n",
    "mycursor.execute(\"USE ebms\")\n",
    "\n",
    "mycursor.execute(\"CREATE TABLE admin(Admin_ID varchar(10) primary key, Admin_First_Name varchar(30), Admin_Last_Name varchar(30), Admin_Type varchar(20), Admin_Password varchar(30))\")\n",
    "mycursor.execute(\"CREATE TABLE customer(Cust_ID int primary key, Customer_First_Name varchar(30), Customer_Last_Name varchar(30), Address_Line_1 varchar(40), Address_Line_2 varchar(40), Pincode int, Contact_Number bigint)\")\n",
    "mycursor.execute(\"CREATE TABLE account(Account_ID varchar(30) primary key, Cust_ID int, Account_Type varchar(30), Meter_No varchar(30), Cur_Meter_Reading int, Prev_Meter_Reading int)\")\n",
    "mycursor.execute(\"CREATE TABLE Tariff(Account_Type varchar(30), Tariff_Rate decimal(4,3), Fixed_Rate int)\")\n"
   ]
  },
  {
   "cell_type": "code",
   "execution_count": 20,
   "metadata": {},
   "outputs": [],
   "source": [
    "with open('D:/Admin.csv', newline='') as csvfile: #------Change Path based on where the csv is being fetched from\n",
    "    reader = csv.reader(csvfile, quotechar='|')\n",
    "    for row in reader:\n",
    "        mycursor.execute('INSERT INTO admin(Admin_ID,Admin_First_Name, Admin_Last_Name, Admin_Type, Admin_Password) VALUES(%s,%s,%s,%s,%s)', row)\n",
    "mydb.commit()"
   ]
  },
  {
   "cell_type": "code",
   "execution_count": 21,
   "metadata": {},
   "outputs": [],
   "source": [
    "with open('D:/Customer.csv', newline='') as csvfile: #------Change Path based on where the csv is being fetched from\n",
    "    reader = csv.reader(csvfile)\n",
    "    for row in reader:\n",
    "        mycursor.execute('INSERT INTO customer(Cust_ID, Customer_First_Name, Customer_Last_Name, Address_Line_1, Address_Line_2, Pincode, Contact_Number) VALUES(%s,%s,%s,%s,%s,%s,%s)', row)\n",
    "mydb.commit()"
   ]
  },
  {
   "cell_type": "code",
   "execution_count": 22,
   "metadata": {},
   "outputs": [],
   "source": [
    "with open('D:/Account.csv', newline='') as csvfile: #------Change Path based on where the csv is being fetched from\n",
    "    reader = csv.reader(csvfile)\n",
    "    for row in reader:\n",
    "        mycursor.execute('INSERT INTO account(Account_ID, Cust_ID, Account_Type, Meter_No, Cur_Meter_Reading, Prev_Meter_Reading) VALUES(%s,%s,%s,%s,%s,%s)', row)\n",
    "mydb.commit()"
   ]
  },
  {
   "cell_type": "code",
   "execution_count": 23,
   "metadata": {},
   "outputs": [],
   "source": [
    "with open('D:/Tariff.csv', newline='') as csvfile: #------Change Path based on where the csv is being fetched from\n",
    "    reader = csv.reader(csvfile)\n",
    "    for row in reader:\n",
    "        mycursor.execute('INSERT INTO tariff(Account_Type, Tariff_Rate, Fixed_Rate) VALUES(%s,%s,%s)', row)\n",
    "mydb.commit()"
   ]
  }
 ],
 "metadata": {
  "kernelspec": {
   "display_name": "Python 3",
   "language": "python",
   "name": "python3"
  },
  "language_info": {
   "codemirror_mode": {
    "name": "ipython",
    "version": 3
   },
   "file_extension": ".py",
   "mimetype": "text/x-python",
   "name": "python",
   "nbconvert_exporter": "python",
   "pygments_lexer": "ipython3",
   "version": "3.9.13"
  },
  "orig_nbformat": 4
 },
 "nbformat": 4,
 "nbformat_minor": 2
}
